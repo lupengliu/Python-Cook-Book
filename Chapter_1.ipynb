{
 "cells": [
  {
   "cell_type": "markdown",
   "metadata": {},
   "source": [
    "### 1.2 解压可迭代对象赋值给多个变量"
   ]
  },
  {
   "cell_type": "code",
   "execution_count": 1,
   "metadata": {},
   "outputs": [],
   "source": [
    "def drop_first_last(grades):\n",
    "    first, *middle, last = grades\n",
    "    return avg(middle)"
   ]
  },
  {
   "cell_type": "code",
   "execution_count": 2,
   "metadata": {},
   "outputs": [],
   "source": [
    "record = ('Dave', 'dave@example.com', '773-555-1212', '847-555-1212')"
   ]
  },
  {
   "cell_type": "code",
   "execution_count": 3,
   "metadata": {},
   "outputs": [],
   "source": [
    "name, email, *phone_numbers = record"
   ]
  },
  {
   "cell_type": "code",
   "execution_count": 5,
   "metadata": {},
   "outputs": [
    {
     "name": "stdout",
     "output_type": "stream",
     "text": [
      "Dave dave@example.com ['773-555-1212', '847-555-1212']\n"
     ]
    }
   ],
   "source": [
    "print(name,email,phone_numbers)"
   ]
  },
  {
   "cell_type": "markdown",
   "metadata": {},
   "source": [
    "## phone_numbers 的类型为list，这一点需要注意 "
   ]
  },
  {
   "cell_type": "code",
   "execution_count": 6,
   "metadata": {},
   "outputs": [],
   "source": [
    "records = [\n",
    "    ('foo',1,2),\n",
    "    ('bar','hello'),\n",
    "    ('foo',3,4)\n",
    "]"
   ]
  },
  {
   "cell_type": "code",
   "execution_count": 7,
   "metadata": {},
   "outputs": [],
   "source": [
    "def do_foo(x,y):\n",
    "    print('foo', x, y)"
   ]
  },
  {
   "cell_type": "code",
   "execution_count": 8,
   "metadata": {},
   "outputs": [],
   "source": [
    "def do_bar(s):\n",
    "    print(\"bar\", s)"
   ]
  },
  {
   "cell_type": "code",
   "execution_count": 9,
   "metadata": {},
   "outputs": [
    {
     "name": "stdout",
     "output_type": "stream",
     "text": [
      "foo 1 2\n",
      "bar hello\n",
      "foo 3 4\n"
     ]
    }
   ],
   "source": [
    "for tag, *args in records:\n",
    "    if tag == 'foo':\n",
    "        do_foo(*args)\n",
    "    elif tag == 'bar':\n",
    "        do_bar(*args)"
   ]
  },
  {
   "cell_type": "code",
   "execution_count": 10,
   "metadata": {},
   "outputs": [],
   "source": [
    "line = 'nobody:*:-2:-2:Unprivileged User:/var/empty:/usr/bin/false'"
   ]
  },
  {
   "cell_type": "code",
   "execution_count": 11,
   "metadata": {},
   "outputs": [
    {
     "name": "stdout",
     "output_type": "stream",
     "text": [
      "nobody /var/empty /usr/bin/false\n"
     ]
    }
   ],
   "source": [
    "uname, *fields, home_dir, sh = line.split(':')\n",
    "print(uname, home_dir, sh)"
   ]
  },
  {
   "cell_type": "code",
   "execution_count": 12,
   "metadata": {},
   "outputs": [],
   "source": [
    "items = [1,2,3,4,5,6]"
   ]
  },
  {
   "cell_type": "code",
   "execution_count": 13,
   "metadata": {},
   "outputs": [],
   "source": [
    "head, *tail = items"
   ]
  },
  {
   "cell_type": "code",
   "execution_count": 14,
   "metadata": {},
   "outputs": [
    {
     "data": {
      "text/plain": [
       "[2, 3, 4, 5, 6]"
      ]
     },
     "execution_count": 14,
     "metadata": {},
     "output_type": "execute_result"
    }
   ],
   "source": [
    "tail"
   ]
  },
  {
   "cell_type": "code",
   "execution_count": 15,
   "metadata": {},
   "outputs": [],
   "source": [
    "tail = [1,2,3]"
   ]
  },
  {
   "cell_type": "code",
   "execution_count": 16,
   "metadata": {},
   "outputs": [
    {
     "data": {
      "text/plain": [
       "[1, 2, 3, 4, 5, 6]"
      ]
     },
     "execution_count": 16,
     "metadata": {},
     "output_type": "execute_result"
    }
   ],
   "source": [
    "items"
   ]
  },
  {
   "cell_type": "code",
   "execution_count": 17,
   "metadata": {},
   "outputs": [],
   "source": [
    "new_items = items * 2"
   ]
  },
  {
   "cell_type": "code",
   "execution_count": 19,
   "metadata": {},
   "outputs": [
    {
     "name": "stdout",
     "output_type": "stream",
     "text": [
      "[1, 2, 3, 4, 5, 6, 1, 2, 3, 4, 5, 6]\n"
     ]
    }
   ],
   "source": [
    "print(new_items)"
   ]
  },
  {
   "cell_type": "code",
   "execution_count": 20,
   "metadata": {},
   "outputs": [],
   "source": [
    "def sum(items):\n",
    "    head, *tail = items\n",
    "    return head + sum(tail) if tail else head"
   ]
  },
  {
   "cell_type": "code",
   "execution_count": 21,
   "metadata": {},
   "outputs": [
    {
     "data": {
      "text/plain": [
       "21"
      ]
     },
     "execution_count": 21,
     "metadata": {},
     "output_type": "execute_result"
    }
   ],
   "source": [
    "sum([1,2,3,4,5,6])"
   ]
  },
  {
   "cell_type": "markdown",
   "metadata": {},
   "source": [
    "##  1.3 保留最后 N 个元素"
   ]
  },
  {
   "cell_type": "code",
   "execution_count": 22,
   "metadata": {},
   "outputs": [],
   "source": [
    "from collections import deque"
   ]
  },
  {
   "cell_type": "code",
   "execution_count": 24,
   "metadata": {},
   "outputs": [],
   "source": [
    "def search(lines, pattern, history=5):\n",
    "    prev_lines = deque(maxlen=history)\n",
    "    for line in lines:\n",
    "        if pattern in line:\n",
    "            yield line, prev_lines\n",
    "        prev_lines.append(line)"
   ]
  },
  {
   "cell_type": "markdown",
   "metadata": {},
   "source": [
    "### 在写查询元素的代码时，可以使用包含yield表达式的生成器函数，从而使得搜索过程的代码和使用搜索结果的代码 实现解耦。"
   ]
  },
  {
   "cell_type": "markdown",
   "metadata": {},
   "source": [
    "## 1.4 查找最大或最小的 N 个元素 "
   ]
  },
  {
   "cell_type": "code",
   "execution_count": 25,
   "metadata": {},
   "outputs": [],
   "source": [
    "import heapq"
   ]
  },
  {
   "cell_type": "code",
   "execution_count": 27,
   "metadata": {},
   "outputs": [
    {
     "name": "stdout",
     "output_type": "stream",
     "text": [
      "Help on module heapq:\n",
      "\n",
      "NAME\n",
      "    heapq - Heap queue algorithm (a.k.a. priority queue).\n",
      "\n",
      "DESCRIPTION\n",
      "    Heaps are arrays for which a[k] <= a[2*k+1] and a[k] <= a[2*k+2] for\n",
      "    all k, counting elements from 0.  For the sake of comparison,\n",
      "    non-existing elements are considered to be infinite.  The interesting\n",
      "    property of a heap is that a[0] is always its smallest element.\n",
      "    \n",
      "    Usage:\n",
      "    \n",
      "    heap = []            # creates an empty heap\n",
      "    heappush(heap, item) # pushes a new item on the heap\n",
      "    item = heappop(heap) # pops the smallest item from the heap\n",
      "    item = heap[0]       # smallest item on the heap without popping it\n",
      "    heapify(x)           # transforms list into a heap, in-place, in linear time\n",
      "    item = heapreplace(heap, item) # pops and returns smallest item, and adds\n",
      "                                   # new item; the heap size is unchanged\n",
      "    \n",
      "    Our API differs from textbook heap algorithms as follows:\n",
      "    \n",
      "    - We use 0-based indexing.  This makes the relationship between the\n",
      "      index for a node and the indexes for its children slightly less\n",
      "      obvious, but is more suitable since Python uses 0-based indexing.\n",
      "    \n",
      "    - Our heappop() method returns the smallest item, not the largest.\n",
      "    \n",
      "    These two make it possible to view the heap as a regular Python list\n",
      "    without surprises: heap[0] is the smallest item, and heap.sort()\n",
      "    maintains the heap invariant!\n",
      "\n",
      "FUNCTIONS\n",
      "    heapify(...)\n",
      "        Transform list into a heap, in-place, in O(len(heap)) time.\n",
      "    \n",
      "    heappop(...)\n",
      "        Pop the smallest item off the heap, maintaining the heap invariant.\n",
      "    \n",
      "    heappush(...)\n",
      "        heappush(heap, item) -> None. Push item onto heap, maintaining the heap invariant.\n",
      "    \n",
      "    heappushpop(...)\n",
      "        heappushpop(heap, item) -> value. Push item on the heap, then pop and return the smallest item\n",
      "        from the heap. The combined action runs more efficiently than\n",
      "        heappush() followed by a separate call to heappop().\n",
      "    \n",
      "    heapreplace(...)\n",
      "        heapreplace(heap, item) -> value. Pop and return the current smallest value, and add the new item.\n",
      "        \n",
      "        This is more efficient than heappop() followed by heappush(), and can be\n",
      "        more appropriate when using a fixed-size heap.  Note that the value\n",
      "        returned may be larger than item!  That constrains reasonable uses of\n",
      "        this routine unless written as part of a conditional replacement:\n",
      "        \n",
      "            if item > heap[0]:\n",
      "                item = heapreplace(heap, item)\n",
      "    \n",
      "    merge(*iterables, key=None, reverse=False)\n",
      "        Merge multiple sorted inputs into a single sorted output.\n",
      "        \n",
      "        Similar to sorted(itertools.chain(*iterables)) but returns a generator,\n",
      "        does not pull the data into memory all at once, and assumes that each of\n",
      "        the input streams is already sorted (smallest to largest).\n",
      "        \n",
      "        >>> list(merge([1,3,5,7], [0,2,4,8], [5,10,15,20], [], [25]))\n",
      "        [0, 1, 2, 3, 4, 5, 5, 7, 8, 10, 15, 20, 25]\n",
      "        \n",
      "        If *key* is not None, applies a key function to each element to determine\n",
      "        its sort order.\n",
      "        \n",
      "        >>> list(merge(['dog', 'horse'], ['cat', 'fish', 'kangaroo'], key=len))\n",
      "        ['dog', 'cat', 'fish', 'horse', 'kangaroo']\n",
      "    \n",
      "    nlargest(n, iterable, key=None)\n",
      "        Find the n largest elements in a dataset.\n",
      "        \n",
      "        Equivalent to:  sorted(iterable, key=key, reverse=True)[:n]\n",
      "    \n",
      "    nsmallest(n, iterable, key=None)\n",
      "        Find the n smallest elements in a dataset.\n",
      "        \n",
      "        Equivalent to:  sorted(iterable, key=key)[:n]\n",
      "\n",
      "DATA\n",
      "    __about__ = 'Heap queues\\n\\n[explanation by François Pinard]\\n\\nH... t...\n",
      "    __all__ = ['heappush', 'heappop', 'heapify', 'heapreplace', 'merge', '...\n",
      "\n",
      "FILE\n",
      "    d:\\anaconda3\\lib\\heapq.py\n",
      "\n",
      "\n"
     ]
    }
   ],
   "source": [
    "help(heapq)"
   ]
  },
  {
   "cell_type": "code",
   "execution_count": 28,
   "metadata": {},
   "outputs": [],
   "source": [
    "nums = [1, 8, 2, 23, 7, -4, 18, 23, 42, 37, 2]"
   ]
  },
  {
   "cell_type": "code",
   "execution_count": 29,
   "metadata": {},
   "outputs": [
    {
     "name": "stdout",
     "output_type": "stream",
     "text": [
      "[42, 37, 23]\n"
     ]
    }
   ],
   "source": [
    "print(heapq.nlargest(n=3,iterable=nums))"
   ]
  },
  {
   "cell_type": "code",
   "execution_count": 30,
   "metadata": {},
   "outputs": [
    {
     "name": "stdout",
     "output_type": "stream",
     "text": [
      "[-4, 1, 2]\n"
     ]
    }
   ],
   "source": [
    "print(heapq.nsmallest(n=3,iterable=nums))"
   ]
  },
  {
   "cell_type": "code",
   "execution_count": 31,
   "metadata": {},
   "outputs": [],
   "source": [
    "portfolio = [\n",
    "    {'name': 'IBM', 'shares': 100, 'price': 91.1},\n",
    "    {'name': 'AAPL', 'shares': 50, 'price': 543.22},\n",
    "    {'name': 'FB', 'shares': 200, 'price': 21.09},\n",
    "    {'name': 'HPQ', 'shares': 35, 'price': 31.75},\n",
    "    {'name': 'YHOO', 'shares': 45, 'price': 16.35},\n",
    "    {'name': 'ACME', 'shares': 75, 'price': 115.65}\n",
    "]"
   ]
  },
  {
   "cell_type": "code",
   "execution_count": 33,
   "metadata": {},
   "outputs": [
    {
     "name": "stdout",
     "output_type": "stream",
     "text": [
      "[{'name': 'YHOO', 'shares': 45, 'price': 16.35}, {'name': 'FB', 'shares': 200, 'price': 21.09}, {'name': 'HPQ', 'shares': 35, 'price': 31.75}]\n",
      "[{'name': 'AAPL', 'shares': 50, 'price': 543.22}, {'name': 'ACME', 'shares': 75, 'price': 115.65}, {'name': 'IBM', 'shares': 100, 'price': 91.1}]\n"
     ]
    }
   ],
   "source": [
    "print(heapq.nsmallest(3, portfolio, key=lambda s: s['price']))\n",
    "print(heapq.nlargest(3, portfolio, key=lambda s: s['price']))"
   ]
  },
  {
   "cell_type": "code",
   "execution_count": null,
   "metadata": {},
   "outputs": [],
   "source": []
  }
 ],
 "metadata": {
  "kernelspec": {
   "display_name": "Python 3",
   "language": "python",
   "name": "python3"
  },
  "language_info": {
   "codemirror_mode": {
    "name": "ipython",
    "version": 3
   },
   "file_extension": ".py",
   "mimetype": "text/x-python",
   "name": "python",
   "nbconvert_exporter": "python",
   "pygments_lexer": "ipython3",
   "version": "3.6.5"
  }
 },
 "nbformat": 4,
 "nbformat_minor": 2
}
